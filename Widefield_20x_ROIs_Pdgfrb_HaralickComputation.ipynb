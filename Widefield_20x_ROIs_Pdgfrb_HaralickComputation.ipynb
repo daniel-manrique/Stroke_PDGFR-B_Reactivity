{
 "cells": [
  {
   "cell_type": "markdown",
   "id": "9aa3da6a",
   "metadata": {},
   "source": [
    "# Computation of Haralick features (texture analysis)"
   ]
  },
  {
   "cell_type": "markdown",
   "id": "b945dd95",
   "metadata": {},
   "source": [
    "In this Jupyter notebook we analyze the texture of the images using the following Haralick Features:\n",
    "\n",
    "**Angular Second Moment (ASM) / Energy:** This measures the uniformity of an image. A higher value indicates that the image has more uniform textures or constant regions.\n",
    "\n",
    "**Contrast:** Represents the difference between the highest and the lowest intensity value in the co-occurrence matrix. It measures the amount of local variations present in an image.\n",
    "\n",
    "**Correlation:** Measures the joint probability occurrence of the specified pixel pairs. It provides information about the linear dependency of gray levels in the neighboring pixels.\n",
    "\n",
    "**Sum of Squares / Variance:** It provides a measure of the squared differences from the mean intensity value.\n",
    "\n",
    "**Inverse Difference Moment (IDM) / Homogeneity:** This measures the local homogeneity of an image. The values are high when the local textures are consistent or homogeneous.\n",
    "\n",
    "**Sum Average:** Represents the average intensity value of the co-occurrence matrix.\n",
    "\n",
    "**Sum Variance:** Measures the variance of the sum of the intensity values from the average value in the co-occurrence matrix.\n",
    "\n",
    "**Sum Entropy:** Represents the randomness or complexity in the sum of the intensity values of the co-occurrence matrix.\n",
    "\n",
    "**Entropy:** Provides a measure of the randomness or complexity in the image. Higher values indicate more complex textures.\n",
    "\n",
    "**Difference Variance:** Represents the variance in the differences between the intensity values of pairs of pixels.\n",
    "\n",
    "**Difference Entropy:** Measures the randomness or complexity in the differences between the intensity values of pairs of pixels.\n",
    "\n",
    "**Informational Correlation 1 (Info Corr 1):** Represents the correlation between the occurrence of the specified pixel pairs and their average intensity values.\n",
    "\n",
    "**Informational Correlation 2 (Info Corr 2):** Provides another measure of the correlation between the occurrence of the specified pixel pairs and their average intensity values. It's typically more sensitive to changes than Info Corr 1."
   ]
  },
  {
   "cell_type": "markdown",
   "id": "f6d0511f",
   "metadata": {},
   "source": [
    "## Load libraries"
   ]
  },
  {
   "cell_type": "code",
   "execution_count": null,
   "id": "84a6fa2d",
   "metadata": {},
   "outputs": [],
   "source": [
    "import os\n",
    "from tifffile import imread\n",
    "import re\n",
    "import mahotas as mh\n",
    "import numpy as np\n",
    "import pandas as pd"
   ]
  },
  {
   "cell_type": "markdown",
   "id": "5cdd6f2e",
   "metadata": {},
   "source": [
    "## Extract metadata from image names"
   ]
  },
  {
   "cell_type": "markdown",
   "id": "f8224d9c",
   "metadata": {},
   "source": [
    "We create a function to exract the matedata from the image names and index the results accordingly. "
   ]
  },
  {
   "cell_type": "code",
   "execution_count": null,
   "id": "943c6b0a",
   "metadata": {},
   "outputs": [],
   "source": [
    "def extract_metadata_from_filename(filename):\n",
    "    \"\"\"\n",
    "    Extracts Day, Region, Protein, and AnimalID information from the given filename.\n",
    "    \n",
    "    Parameters:\n",
    "        filename (str): The filename to extract metadata from.\n",
    "    \n",
    "    Returns:\n",
    "        tuple: (animalid, day, region, protein)\n",
    "    \"\"\"\n",
    "    # Extract AnimalID as the first string of the filename, for example, \"Td012\"\n",
    "    animalid = filename.split(\"_\")[0]\n",
    "    \n",
    "    # Define a regular expression pattern based on your file naming convention\n",
    "    pattern = r\"_(\\d+D)_.*_(\\w+)_(\\w+)_\"\n",
    "    match = re.search(pattern, filename)\n",
    "    \n",
    "    if match:\n",
    "        day, region, protein = match.groups()\n",
    "        return animalid, day, region, protein\n",
    "    else:\n",
    "        raise ValueError(f\"Pattern not matched for: {filename}\")\n",
    "\n",
    "# Example usage\n",
    "data_directory = \"E:/Research/Stroke_PDGFRb_Reactivity/Exp4-Pdgfra-Pdgfrb/Widefield_20x_ROIs-Stacks_Pdgfra-Pdgfrb/Images_Zplane\"\n",
    "files = [f for f in os.listdir(data_directory) if f.endswith('.tif')]\n",
    "\n",
    "for file in files:\n",
    "    # Extract metadata\n",
    "    animalid, day, region, protein = extract_metadata_from_filename(file)\n",
    "    \n",
    "    # Load the image stack\n",
    "    image_stack = imread(os.path.join(data_directory, file))\n",
    "    \n",
    "    # For now, let's just print the metadata and the shape of the image stack\n",
    "    print(f\"Filename: {file} | AnimalID: {animalid} | Day: {day} | Region: {region} | Protein: {protein} | Image Shape: {image_stack.shape}\")\n"
   ]
  },
  {
   "cell_type": "markdown",
   "id": "5188f616",
   "metadata": {},
   "source": [
    "## Compute the haralick features"
   ]
  },
  {
   "cell_type": "markdown",
   "id": "abbe3958",
   "metadata": {},
   "source": [
    "Next, we compute the Haralick features and store the results in a designated file"
   ]
  },
  {
   "cell_type": "code",
   "execution_count": null,
   "id": "98183834",
   "metadata": {},
   "outputs": [],
   "source": [
    "def compute_haralick_features(image):\n",
    "    \"\"\"\n",
    "    Compute Haralick texture features for a 2D image using mahotas.\n",
    "    \n",
    "    Parameters:\n",
    "        image (numpy.ndarray): 2D image.\n",
    "        \n",
    "    Returns:\n",
    "        dict: Dictionary containing texture metrics for the image.\n",
    "    \"\"\"\n",
    "    features = mh.features.haralick(image)\n",
    "    feature_dict = {\n",
    "        'angular_second_moment': features[0][0],\n",
    "        'contrast': features[0][1],\n",
    "        'correlation': features[0][2],\n",
    "        'sum_of_squares': features[0][3],\n",
    "        'inverse_difference_moment': features[0][4],\n",
    "        'sum_average': features[0][5],\n",
    "        'sum_variance': features[0][6],\n",
    "        'sum_entropy': features[0][7],\n",
    "        'entropy': features[0][8],\n",
    "        'difference_variance': features[0][9],\n",
    "        'difference_entropy': features[0][10],\n",
    "        'info_corr_1': features[0][11],\n",
    "        'info_corr_2': features[0][12]\n",
    "    }\n",
    "    return feature_dict\n",
    "\n",
    "# List to store results\n",
    "results = []\n",
    "\n",
    "for file in files:\n",
    "    # Extract metadata\n",
    "    animalid, day, region, protein = extract_metadata_from_filename(file)\n",
    "    \n",
    "    # Load the image\n",
    "    image = imread(os.path.join(data_directory, file))\n",
    "    \n",
    "    # Compute Haralick features for the image\n",
    "    features = compute_haralick_features(image)\n",
    "    \n",
    "    # Store the results, flattening the features for easier dataframe manipulation\n",
    "    results.append({\n",
    "        'AnimalID': animalid,\n",
    "        'Day': day,\n",
    "        'Region': region,\n",
    "        'Protein': protein,\n",
    "        **features,\n",
    "        'Filename': file  # Store the filename for traceability\n",
    "    })\n",
    "    \n",
    "    print(f\"Processed: {file} | AnimalID: {animalid} | Day: {day} | Region: {region} | Protein: {protein}\")\n",
    "\n",
    "# Convert results to a DataFrame for easier manipulation\n",
    "df = pd.DataFrame(results)\n",
    "\n",
    "save_path_csv = r\"D:/Research/Stroke_PDGFR-B_Reactivity/Pdgfrb_Reactivity_DataAnalysis/Stroke_Pdgfrb_Reactivity/Data_Raw/Raw_Widefield_20x_ROIs_Pdgfrb_Haralick.csv\"\n",
    "\n",
    "# Save the results as CSV\n",
    "df.to_csv(save_path_csv, index=False)\n",
    "\n",
    "print(f\"Haralick features results saved to {save_path_csv}\")"
   ]
  }
 ],
 "metadata": {
  "kernelspec": {
   "display_name": "Python 3 (ipykernel)",
   "language": "python",
   "name": "python3"
  },
  "language_info": {
   "codemirror_mode": {
    "name": "ipython",
    "version": 3
   },
   "file_extension": ".py",
   "mimetype": "text/x-python",
   "name": "python",
   "nbconvert_exporter": "python",
   "pygments_lexer": "ipython3",
   "version": "3.10.13"
  },
  "nbTranslate": {
   "displayLangs": [
    "*"
   ],
   "hotkey": "alt-t",
   "langInMainMenu": true,
   "sourceLang": "en",
   "targetLang": "fr",
   "useGoogleTranslate": true
  },
  "toc": {
   "base_numbering": 1,
   "nav_menu": {},
   "number_sections": true,
   "sideBar": true,
   "skip_h1_title": false,
   "title_cell": "Table of Contents",
   "title_sidebar": "Contents",
   "toc_cell": false,
   "toc_position": {},
   "toc_section_display": true,
   "toc_window_display": false
  },
  "varInspector": {
   "cols": {
    "lenName": 16,
    "lenType": 16,
    "lenVar": 40
   },
   "kernels_config": {
    "python": {
     "delete_cmd_postfix": "",
     "delete_cmd_prefix": "del ",
     "library": "var_list.py",
     "varRefreshCmd": "print(var_dic_list())"
    },
    "r": {
     "delete_cmd_postfix": ") ",
     "delete_cmd_prefix": "rm(",
     "library": "var_list.r",
     "varRefreshCmd": "cat(var_dic_list()) "
    }
   },
   "types_to_exclude": [
    "module",
    "function",
    "builtin_function_or_method",
    "instance",
    "_Feature"
   ],
   "window_display": false
  }
 },
 "nbformat": 4,
 "nbformat_minor": 5
}
