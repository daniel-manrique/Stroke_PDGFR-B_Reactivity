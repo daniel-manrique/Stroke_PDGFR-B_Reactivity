{
 "cells": [
  {
   "cell_type": "markdown",
   "id": "c20959f6",
   "metadata": {},
   "source": [
    "# Topological Data Analysis (TDA) of PDGFR-β+ labeled nuclei (FISH)."
   ]
  },
  {
   "cell_type": "raw",
   "id": "bc53c49e",
   "metadata": {},
   "source": []
  },
  {
   "cell_type": "code",
   "execution_count": null,
   "id": "6b067a9e",
   "metadata": {},
   "outputs": [],
   "source": []
  },
  {
   "cell_type": "markdown",
   "id": "1d167ffd",
   "metadata": {},
   "source": [
    "## Preview\n",
    "\n",
    "This notebook reports the topological data analysis (TDA) for PDGFR-β+ nuceli (labeled with fluorescence in situ hybridization) in three ROIs of the ischemic hemisphere. Please note that this notebook runs Python code. \n",
    "\n",
    "**Parent dataset:** PDGFR-β(FISH) stained ischemic hemispheres imaged at 10x (with stitching). We took regions of interest (ROIs) from three different areas in the injure cortex/striatum to quantify PDGFR-β expression. Samples are grouped at 0 (Sham), and 14 days post-ischemia (DPI). The raw images and pre-processing scripts (if applicable) are available at the Zenodo repository (10.5281/zenodo.10553084) under the name `Widefield_10x_ROIs_KO_Fish_Pdgfrb.zip`. Please note that we excluded mice `KL31` because of an inefficient staining (the section dried during the staining procedure).\n",
    "\n",
    "**Working dataset**: The `Data_Processed/Widefield_10x_ROIs_KO_Fish_Pdgfrb/Widefield_10x_ROIs_KO_Fish_Pdgfrb_AreaInt.csv`data frame containing the individual xy coordinates of PDGFR-β+ cells generated in a Quarto [notebook](https://github.com/elalilab/Stroke_PDGFR-B_Reactivity/blob/main/Widefield_10x_Ipsilateral_KO_Fish_Pdgfrb.qmd).\n",
    "\n",
    "**Note:** This notebook runs using python code."
   ]
  },
  {
   "cell_type": "markdown",
   "id": "a309a3cb",
   "metadata": {},
   "source": [
    "## Load required libraries\n",
    "\n",
    "We import the required Python libraries."
   ]
  },
  {
   "cell_type": "code",
   "execution_count": 37,
   "id": "baa28da0",
   "metadata": {},
   "outputs": [],
   "source": [
    "import pandas as pd\n",
    "import numpy as np\n",
    "import seaborn as sns\n",
    "import os\n",
    "import csv\n",
    "\n",
    "import matplotlib.pyplot as plt\n",
    "from matplotlib.collections import LineCollection\n",
    "from matplotlib.animation import FuncAnimation\n",
    "from matplotlib.patches import Circle\n",
    "\n",
    "import gudhi as gd\n",
    "from gudhi import RipsComplex, plot_persistence_diagram\n",
    "from gudhi import bottleneck_distance\n",
    "from gudhi.wasserstein import wasserstein_distance\n",
    "\n",
    "import itertools\n",
    "from ripser import ripser\n",
    "from persim import plot_diagrams\n",
    "from random import choices\n",
    "from scipy.spatial import ConvexHull\n",
    "from collections import defaultdict  "
   ]
  },
  {
   "cell_type": "markdown",
   "id": "6ff6c5a8",
   "metadata": {},
   "source": [
    "## Load and handle the dataset"
   ]
  },
  {
   "cell_type": "code",
   "execution_count": 5,
   "id": "7db456e4",
   "metadata": {},
   "outputs": [
    {
     "data": {
      "text/html": [
       "<div>\n",
       "<style scoped>\n",
       "    .dataframe tbody tr th:only-of-type {\n",
       "        vertical-align: middle;\n",
       "    }\n",
       "\n",
       "    .dataframe tbody tr th {\n",
       "        vertical-align: top;\n",
       "    }\n",
       "\n",
       "    .dataframe thead th {\n",
       "        text-align: right;\n",
       "    }\n",
       "</style>\n",
       "<table border=\"1\" class=\"dataframe\">\n",
       "  <thead>\n",
       "    <tr style=\"text-align: right;\">\n",
       "      <th></th>\n",
       "      <th>Area</th>\n",
       "      <th>Intensity</th>\n",
       "      <th>x-coord</th>\n",
       "      <th>y-coord</th>\n",
       "      <th>MouseID</th>\n",
       "      <th>DPI</th>\n",
       "      <th>Genotype</th>\n",
       "      <th>Section</th>\n",
       "    </tr>\n",
       "  </thead>\n",
       "  <tbody>\n",
       "    <tr>\n",
       "      <th>0</th>\n",
       "      <td>156</td>\n",
       "      <td>65.310231</td>\n",
       "      <td>26.653846</td>\n",
       "      <td>5.429487</td>\n",
       "      <td>KL26</td>\n",
       "      <td>14D</td>\n",
       "      <td>WT</td>\n",
       "      <td>S1</td>\n",
       "    </tr>\n",
       "    <tr>\n",
       "      <th>1</th>\n",
       "      <td>65</td>\n",
       "      <td>19.471275</td>\n",
       "      <td>36.738462</td>\n",
       "      <td>8.984615</td>\n",
       "      <td>KL26</td>\n",
       "      <td>14D</td>\n",
       "      <td>WT</td>\n",
       "      <td>S1</td>\n",
       "    </tr>\n",
       "    <tr>\n",
       "      <th>2</th>\n",
       "      <td>104</td>\n",
       "      <td>49.192050</td>\n",
       "      <td>168.807692</td>\n",
       "      <td>31.288462</td>\n",
       "      <td>KL26</td>\n",
       "      <td>14D</td>\n",
       "      <td>WT</td>\n",
       "      <td>S1</td>\n",
       "    </tr>\n",
       "    <tr>\n",
       "      <th>3</th>\n",
       "      <td>98</td>\n",
       "      <td>36.100435</td>\n",
       "      <td>95.336735</td>\n",
       "      <td>36.091837</td>\n",
       "      <td>KL26</td>\n",
       "      <td>14D</td>\n",
       "      <td>WT</td>\n",
       "      <td>S1</td>\n",
       "    </tr>\n",
       "    <tr>\n",
       "      <th>4</th>\n",
       "      <td>235</td>\n",
       "      <td>88.383765</td>\n",
       "      <td>249.225532</td>\n",
       "      <td>37.953191</td>\n",
       "      <td>KL26</td>\n",
       "      <td>14D</td>\n",
       "      <td>WT</td>\n",
       "      <td>S1</td>\n",
       "    </tr>\n",
       "  </tbody>\n",
       "</table>\n",
       "</div>"
      ],
      "text/plain": [
       "   Area  Intensity     x-coord    y-coord MouseID  DPI Genotype Section\n",
       "0   156  65.310231   26.653846   5.429487    KL26  14D       WT      S1\n",
       "1    65  19.471275   36.738462   8.984615    KL26  14D       WT      S1\n",
       "2   104  49.192050  168.807692  31.288462    KL26  14D       WT      S1\n",
       "3    98  36.100435   95.336735  36.091837    KL26  14D       WT      S1\n",
       "4   235  88.383765  249.225532  37.953191    KL26  14D       WT      S1"
      ]
     },
     "execution_count": 5,
     "metadata": {},
     "output_type": "execute_result"
    }
   ],
   "source": [
    "# Load the dataset\n",
    "file_path = 'Data_Processed/Widefield_10x_ROIs_KO_Fish_Pdgfrb/Widefield_10x_ROIs_KO_Fish_Pdgfrb_AreaInt.csv'\n",
    "data = pd.read_csv(file_path)\n",
    "\n",
    "# Display the first few rows to check the data\n",
    "data.head()\n"
   ]
  },
  {
   "cell_type": "markdown",
   "id": "02a38f0c",
   "metadata": {},
   "source": [
    "We then filter the 14D data"
   ]
  },
  {
   "cell_type": "code",
   "execution_count": 7,
   "id": "ff0969e6",
   "metadata": {},
   "outputs": [
    {
     "name": "stdout",
     "output_type": "stream",
     "text": [
      "<class 'pandas.core.frame.DataFrame'>\n",
      "Index: 5588 entries, 0 to 5918\n",
      "Data columns (total 8 columns):\n",
      " #   Column     Non-Null Count  Dtype  \n",
      "---  ------     --------------  -----  \n",
      " 0   Area       5588 non-null   int64  \n",
      " 1   Intensity  5588 non-null   float64\n",
      " 2   x-coord    5588 non-null   float64\n",
      " 3   y-coord    5588 non-null   float64\n",
      " 4   MouseID    5588 non-null   object \n",
      " 5   DPI        5588 non-null   object \n",
      " 6   Genotype   5588 non-null   object \n",
      " 7   Section    5588 non-null   object \n",
      "dtypes: float64(3), int64(1), object(4)\n",
      "memory usage: 392.9+ KB\n",
      "Unique MouseIDs: ['KL26' 'KL27' 'KL28' 'KL29' 'KL32' 'KL34' 'KL36' 'KL39' 'KL48' 'KL49'\n",
      " 'KL50' 'KL52' 'KL53' 'KL54' 'KL56' 'KL57']\n",
      "Unique Sections: ['S1' 'S2' 'S3']\n",
      "Unique Genotypes: ['WT' 'KO']\n"
     ]
    }
   ],
   "source": [
    "# Filter the data\n",
    "filtered_data = data[data['DPI'] == '14D']\n",
    "\n",
    "# Display the first few rows of the filtered data\n",
    "filtered_data.head()\n",
    "\n",
    "# Check the data types and any missing values\n",
    "filtered_data.info()\n",
    "\n",
    "# Check for unique values in 'MouseID', 'Section', and 'genotype'\n",
    "print(\"Unique MouseIDs:\", filtered_data['MouseID'].unique())\n",
    "print(\"Unique Sections:\", filtered_data['Section'].unique())\n",
    "print(\"Unique Genotypes:\", filtered_data['Genotype'].unique())\n"
   ]
  },
  {
   "cell_type": "markdown",
   "id": "fb4b43aa",
   "metadata": {},
   "source": [
    "We group the datasets by animals and sections"
   ]
  },
  {
   "cell_type": "code",
   "execution_count": 8,
   "id": "d06b531a",
   "metadata": {},
   "outputs": [],
   "source": [
    "# Group the filtered dataset by MouseID and Section, then extract the point clouds\n",
    "point_clouds_by_mouse_section = filtered_data.groupby(['MouseID', 'Section']).apply(lambda df: df[['x-coord', 'y-coord']].values).to_dict()\n"
   ]
  },
  {
   "cell_type": "markdown",
   "id": "93e856b2",
   "metadata": {},
   "source": [
    "## Calculate Vietoris-Rips Complex"
   ]
  },
  {
   "cell_type": "markdown",
   "id": "c6845c97",
   "metadata": {},
   "source": [
    "For information on this aspect please refer to the following Jupyther [notebook](https://github.com/elalilab/Stroke_PDGFR-B_Reactivity/blob/main/Widefield_20x_ROIs_Pdgfrb_TDA.ipynb)"
   ]
  },
  {
   "cell_type": "code",
   "execution_count": 14,
   "id": "25f4619e",
   "metadata": {},
   "outputs": [],
   "source": [
    "def calculate_vietoris_rips_complex(point_cloud, max_dim, max_radius):\n",
    "    \"\"\"\n",
    "    Calculate the Vietoris-Rips complex for a given point cloud.\n",
    "    \n",
    "    Parameters:\n",
    "    - point_cloud: numpy array of shape (n_points, n_dimensions) representing the point cloud.\n",
    "    - max_dim: int, the maximal dimension of the simplices in the Vietoris-Rips complex.\n",
    "    - max_radius: float, the maximal radius for simplices in the Vietoris-Rips complex.\n",
    "    \n",
    "    Returns:\n",
    "    - simplex_tree: a GUDHI SimplexTree object representing the Vietoris-Rips complex.\n",
    "    \"\"\"\n",
    "    rips_complex = gd.RipsComplex(points=point_cloud, max_edge_length=max_radius)\n",
    "    simplex_tree = rips_complex.create_simplex_tree(max_dimension=max_dim)\n",
    "    return simplex_tree\n",
    "\n",
    "# Parameters for Vietoris-Rips complex calculation\n",
    "max_dim = 3\n",
    "max_radius = 50\n",
    "\n",
    "# Calculate Vietoris-Rips complexes for each section of each mouse\n",
    "vietoris_rips_complexes = {}\n",
    "for (mouse_id, section), point_cloud in point_clouds_by_mouse_section.items():\n",
    "    key = (mouse_id, section)  # Use a tuple of MouseID and Section as the key\n",
    "    vietoris_rips_complexes[key] = calculate_vietoris_rips_complex(point_cloud, max_dim, max_radius)\n"
   ]
  },
  {
   "cell_type": "markdown",
   "id": "efca6ce8",
   "metadata": {},
   "source": [
    "We plot a sample point cloud"
   ]
  },
  {
   "cell_type": "code",
   "execution_count": 16,
   "id": "131f5c6b",
   "metadata": {},
   "outputs": [
    {
     "data": {
      "image/png": "[encoded data removed]",
      "text/plain": [
       "<Figure size 640x480 with 1 Axes>"
      ]
     },
     "metadata": {},
     "output_type": "display_data"
    }
   ],
   "source": [
    "# Plotting a sample point cloud for one 'MouseID' and 'Section'\n",
    "sample_key = list(point_clouds_by_mouse_section.keys())[0]\n",
    "sample_point_cloud = point_clouds_by_mouse_section[sample_key]\n",
    "\n",
    "plt.scatter(sample_point_cloud[:, 0], sample_point_cloud[:, 1])\n",
    "plt.xlabel('x-coord')\n",
    "plt.ylabel('y-coord')\n",
    "plt.title(f\"Point Cloud for MouseID: {sample_key[0]}, Section: {sample_key[1]}\")\n",
    "plt.show()\n"
   ]
  },
  {
   "cell_type": "markdown",
   "id": "64707055",
   "metadata": {},
   "source": [
    "Then, we save the point clouds in a designated folder:"
   ]
  },
  {
   "cell_type": "markdown",
   "id": "0ce4a24a",
   "metadata": {},
   "source": [
    "## Save static Vietoris-rips complexes"
   ]
  },
  {
   "cell_type": "code",
   "execution_count": 18,
   "id": "d566e99b",
   "metadata": {},
   "outputs": [],
   "source": [
    "def plot_vietoris_rips_complex(point_cloud, simplex_tree, filename, save_dir, x_range=None, y_range=None):\n",
    "    \"\"\"\n",
    "    Plot and save the Vietoris-Rips complex for a given 2D point cloud, with specified x and y axis ranges.\n",
    "\n",
    "    Parameters:\n",
    "    - point_cloud: numpy array of shape (n_points, 2) representing the 2D point cloud.\n",
    "    - simplex_tree: a GUDHI SimplexTree object representing the Vietoris-Rips complex.\n",
    "    - filename: str, the name of the file to save the image.\n",
    "    - save_dir: str, directory to save the image.\n",
    "    - x_range: tuple, the range for the x-axis (optional).\n",
    "    - y_range: tuple, the range for the y-axis (optional).\n",
    "    \"\"\"\n",
    "    fig, ax = plt.subplots(figsize=(6, 4))\n",
    "    \n",
    "    # Plot points\n",
    "    ax.scatter(point_cloud[:, 0], point_cloud[:, 1], c='black', s=20, alpha=0.8)\n",
    "    \n",
    "    # Plot edges\n",
    "    edges = []\n",
    "    for simplex in simplex_tree.get_skeleton(2):  # Get up to 2-simplices (edges)\n",
    "        if len(simplex[0]) == 2:  # Edges\n",
    "            p1, p2 = point_cloud[simplex[0][0]], point_cloud[simplex[0][1]]\n",
    "            edges.append([p1, p2])\n",
    "    lc = LineCollection(edges, colors='green', linewidths=1, alpha=0.7)\n",
    "    ax.add_collection(lc)\n",
    "    \n",
    "    # Adjust plot settings\n",
    "    ax.set_xticks([])\n",
    "    ax.set_yticks([])\n",
    "    ax.set_xlabel('')\n",
    "    ax.set_ylabel('')\n",
    "    \n",
    "    if x_range is not None:\n",
    "        ax.set_xlim(x_range)\n",
    "    if y_range is not None:\n",
    "        ax.set_ylim(y_range)\n",
    "    \n",
    "    plt.tight_layout()\n",
    "    \n",
    "    if not os.path.exists(save_dir):\n",
    "        os.makedirs(save_dir)\n",
    "    plt.savefig(os.path.join(save_dir, f\"{filename}.png\"))\n",
    "    plt.close()\n",
    "\n",
    "    \n",
    "    # Directory to save the images\n",
    "output_dir = \"D:/Research/Stroke_PDGFR-B_Reactivity/Images/Widefield_10x_ROIs_KO_Fish_Pdgfrb_TDA/VietorisRips_Static\"\n",
    "#x_range = (0, 500)  # Example x-axis range, update based on your data\n",
    "#y_range = (0, 550)  # Example y-axis range, update based on your data\n",
    "\n",
    "# Generate and save plots for each section of each mouse\n",
    "for (mouse_id, section), simplex_tree in vietoris_rips_complexes.items():\n",
    "    filename = f\"{mouse_id}_{section}_VietorisRips\"\n",
    "    point_cloud = point_clouds_by_mouse_section[(mouse_id, section)]\n",
    "    plot_vietoris_rips_complex(point_cloud, simplex_tree, filename, output_dir, x_range, y_range)\n"
   ]
  },
  {
   "cell_type": "markdown",
   "id": "bb8ed62b",
   "metadata": {},
   "source": [
    "## Save animated Vietoris-rips complexes"
   ]
  },
  {
   "cell_type": "code",
   "execution_count": 20,
   "id": "48fb492e",
   "metadata": {},
   "outputs": [
    {
     "name": "stdout",
     "output_type": "stream",
     "text": [
      "Saved animation: D:/Research/Stroke_PDGFR-B_Reactivity/Images/Widefield_10x_ROIs_KO_Fish_Pdgfrb_TDA/VietorisRips_Animated\\KL26_S1_VietorisRips_Animation.mp4\n",
      "Saved animation: D:/Research/Stroke_PDGFR-B_Reactivity/Images/Widefield_10x_ROIs_KO_Fish_Pdgfrb_TDA/VietorisRips_Animated\\KL26_S2_VietorisRips_Animation.mp4\n",
      "Saved animation: D:/Research/Stroke_PDGFR-B_Reactivity/Images/Widefield_10x_ROIs_KO_Fish_Pdgfrb_TDA/VietorisRips_Animated\\KL26_S3_VietorisRips_Animation.mp4\n",
      "Saved animation: D:/Research/Stroke_PDGFR-B_Reactivity/Images/Widefield_10x_ROIs_KO_Fish_Pdgfrb_TDA/VietorisRips_Animated\\KL27_S1_VietorisRips_Animation.mp4\n",
      "Saved animation: D:/Research/Stroke_PDGFR-B_Reactivity/Images/Widefield_10x_ROIs_KO_Fish_Pdgfrb_TDA/VietorisRips_Animated\\KL27_S2_VietorisRips_Animation.mp4\n",
      "Saved animation: D:/Research/Stroke_PDGFR-B_Reactivity/Images/Widefield_10x_ROIs_KO_Fish_Pdgfrb_TDA/VietorisRips_Animated\\KL27_S3_VietorisRips_Animation.mp4\n",
      "Saved animation: D:/Research/Stroke_PDGFR-B_Reactivity/Images/Widefield_10x_ROIs_KO_Fish_Pdgfrb_TDA/VietorisRips_Animated\\KL28_S1_VietorisRips_Animation.mp4\n",
      "Saved animation: D:/Research/Stroke_PDGFR-B_Reactivity/Images/Widefield_10x_ROIs_KO_Fish_Pdgfrb_TDA/VietorisRips_Animated\\KL28_S2_VietorisRips_Animation.mp4\n",
      "Saved animation: D:/Research/Stroke_PDGFR-B_Reactivity/Images/Widefield_10x_ROIs_KO_Fish_Pdgfrb_TDA/VietorisRips_Animated\\KL28_S3_VietorisRips_Animation.mp4\n",
      "Saved animation: D:/Research/Stroke_PDGFR-B_Reactivity/Images/Widefield_10x_ROIs_KO_Fish_Pdgfrb_TDA/VietorisRips_Animated\\KL29_S1_VietorisRips_Animation.mp4\n",
      "Saved animation: D:/Research/Stroke_PDGFR-B_Reactivity/Images/Widefield_10x_ROIs_KO_Fish_Pdgfrb_TDA/VietorisRips_Animated\\KL29_S2_VietorisRips_Animation.mp4\n",
      "Saved animation: D:/Research/Stroke_PDGFR-B_Reactivity/Images/Widefield_10x_ROIs_KO_Fish_Pdgfrb_TDA/VietorisRips_Animated\\KL29_S3_VietorisRips_Animation.mp4\n",
      "Saved animation: D:/Research/Stroke_PDGFR-B_Reactivity/Images/Widefield_10x_ROIs_KO_Fish_Pdgfrb_TDA/VietorisRips_Animated\\KL32_S1_VietorisRips_Animation.mp4\n",
      "Saved animation: D:/Research/Stroke_PDGFR-B_Reactivity/Images/Widefield_10x_ROIs_KO_Fish_Pdgfrb_TDA/VietorisRips_Animated\\KL32_S2_VietorisRips_Animation.mp4\n",
      "Saved animation: D:/Research/Stroke_PDGFR-B_Reactivity/Images/Widefield_10x_ROIs_KO_Fish_Pdgfrb_TDA/VietorisRips_Animated\\KL32_S3_VietorisRips_Animation.mp4\n",
      "Saved animation: D:/Research/Stroke_PDGFR-B_Reactivity/Images/Widefield_10x_ROIs_KO_Fish_Pdgfrb_TDA/VietorisRips_Animated\\KL34_S1_VietorisRips_Animation.mp4\n",
      "Saved animation: D:/Research/Stroke_PDGFR-B_Reactivity/Images/Widefield_10x_ROIs_KO_Fish_Pdgfrb_TDA/VietorisRips_Animated\\KL34_S2_VietorisRips_Animation.mp4\n",
      "Saved animation: D:/Research/Stroke_PDGFR-B_Reactivity/Images/Widefield_10x_ROIs_KO_Fish_Pdgfrb_TDA/VietorisRips_Animated\\KL34_S3_VietorisRips_Animation.mp4\n",
      "Saved animation: D:/Research/Stroke_PDGFR-B_Reactivity/Images/Widefield_10x_ROIs_KO_Fish_Pdgfrb_TDA/VietorisRips_Animated\\KL36_S1_VietorisRips_Animation.mp4\n",
      "Saved animation: D:/Research/Stroke_PDGFR-B_Reactivity/Images/Widefield_10x_ROIs_KO_Fish_Pdgfrb_TDA/VietorisRips_Animated\\KL36_S2_VietorisRips_Animation.mp4\n",
      "Saved animation: D:/Research/Stroke_PDGFR-B_Reactivity/Images/Widefield_10x_ROIs_KO_Fish_Pdgfrb_TDA/VietorisRips_Animated\\KL36_S3_VietorisRips_Animation.mp4\n",
      "Saved animation: D:/Research/Stroke_PDGFR-B_Reactivity/Images/Widefield_10x_ROIs_KO_Fish_Pdgfrb_TDA/VietorisRips_Animated\\KL39_S1_VietorisRips_Animation.mp4\n",
      "Saved animation: D:/Research/Stroke_PDGFR-B_Reactivity/Images/Widefield_10x_ROIs_KO_Fish_Pdgfrb_TDA/VietorisRips_Animated\\KL39_S2_VietorisRips_Animation.mp4\n",
      "Saved animation: D:/Research/Stroke_PDGFR-B_Reactivity/Images/Widefield_10x_ROIs_KO_Fish_Pdgfrb_TDA/VietorisRips_Animated\\KL39_S3_VietorisRips_Animation.mp4\n",
      "Saved animation: D:/Research/Stroke_PDGFR-B_Reactivity/Images/Widefield_10x_ROIs_KO_Fish_Pdgfrb_TDA/VietorisRips_Animated\\KL48_S1_VietorisRips_Animation.mp4\n",
      "Saved animation: D:/Research/Stroke_PDGFR-B_Reactivity/Images/Widefield_10x_ROIs_KO_Fish_Pdgfrb_TDA/VietorisRips_Animated\\KL48_S2_VietorisRips_Animation.mp4\n",
      "Saved animation: D:/Research/Stroke_PDGFR-B_Reactivity/Images/Widefield_10x_ROIs_KO_Fish_Pdgfrb_TDA/VietorisRips_Animated\\KL49_S1_VietorisRips_Animation.mp4\n",
      "Saved animation: D:/Research/Stroke_PDGFR-B_Reactivity/Images/Widefield_10x_ROIs_KO_Fish_Pdgfrb_TDA/VietorisRips_Animated\\KL49_S2_VietorisRips_Animation.mp4\n",
      "Saved animation: D:/Research/Stroke_PDGFR-B_Reactivity/Images/Widefield_10x_ROIs_KO_Fish_Pdgfrb_TDA/VietorisRips_Animated\\KL49_S3_VietorisRips_Animation.mp4\n",
      "Saved animation: D:/Research/Stroke_PDGFR-B_Reactivity/Images/Widefield_10x_ROIs_KO_Fish_Pdgfrb_TDA/VietorisRips_Animated\\KL50_S1_VietorisRips_Animation.mp4\n",
      "Saved animation: D:/Research/Stroke_PDGFR-B_Reactivity/Images/Widefield_10x_ROIs_KO_Fish_Pdgfrb_TDA/VietorisRips_Animated\\KL50_S2_VietorisRips_Animation.mp4\n",
      "Saved animation: D:/Research/Stroke_PDGFR-B_Reactivity/Images/Widefield_10x_ROIs_KO_Fish_Pdgfrb_TDA/VietorisRips_Animated\\KL50_S3_VietorisRips_Animation.mp4\n",
      "Saved animation: D:/Research/Stroke_PDGFR-B_Reactivity/Images/Widefield_10x_ROIs_KO_Fish_Pdgfrb_TDA/VietorisRips_Animated\\KL52_S1_VietorisRips_Animation.mp4\n",
      "Saved animation: D:/Research/Stroke_PDGFR-B_Reactivity/Images/Widefield_10x_ROIs_KO_Fish_Pdgfrb_TDA/VietorisRips_Animated\\KL52_S2_VietorisRips_Animation.mp4\n",
      "Saved animation: D:/Research/Stroke_PDGFR-B_Reactivity/Images/Widefield_10x_ROIs_KO_Fish_Pdgfrb_TDA/VietorisRips_Animated\\KL52_S3_VietorisRips_Animation.mp4\n",
      "Saved animation: D:/Research/Stroke_PDGFR-B_Reactivity/Images/Widefield_10x_ROIs_KO_Fish_Pdgfrb_TDA/VietorisRips_Animated\\KL53_S1_VietorisRips_Animation.mp4\n",
      "Saved animation: D:/Research/Stroke_PDGFR-B_Reactivity/Images/Widefield_10x_ROIs_KO_Fish_Pdgfrb_TDA/VietorisRips_Animated\\KL53_S2_VietorisRips_Animation.mp4\n",
      "Saved animation: D:/Research/Stroke_PDGFR-B_Reactivity/Images/Widefield_10x_ROIs_KO_Fish_Pdgfrb_TDA/VietorisRips_Animated\\KL53_S3_VietorisRips_Animation.mp4\n",
      "Saved animation: D:/Research/Stroke_PDGFR-B_Reactivity/Images/Widefield_10x_ROIs_KO_Fish_Pdgfrb_TDA/VietorisRips_Animated\\KL54_S1_VietorisRips_Animation.mp4\n",
      "Saved animation: D:/Research/Stroke_PDGFR-B_Reactivity/Images/Widefield_10x_ROIs_KO_Fish_Pdgfrb_TDA/VietorisRips_Animated\\KL54_S2_VietorisRips_Animation.mp4\n",
      "Saved animation: D:/Research/Stroke_PDGFR-B_Reactivity/Images/Widefield_10x_ROIs_KO_Fish_Pdgfrb_TDA/VietorisRips_Animated\\KL54_S3_VietorisRips_Animation.mp4\n",
      "Saved animation: D:/Research/Stroke_PDGFR-B_Reactivity/Images/Widefield_10x_ROIs_KO_Fish_Pdgfrb_TDA/VietorisRips_Animated\\KL56_S1_VietorisRips_Animation.mp4\n",
      "Saved animation: D:/Research/Stroke_PDGFR-B_Reactivity/Images/Widefield_10x_ROIs_KO_Fish_Pdgfrb_TDA/VietorisRips_Animated\\KL56_S2_VietorisRips_Animation.mp4\n",
      "Saved animation: D:/Research/Stroke_PDGFR-B_Reactivity/Images/Widefield_10x_ROIs_KO_Fish_Pdgfrb_TDA/VietorisRips_Animated\\KL56_S3_VietorisRips_Animation.mp4\n",
      "Saved animation: D:/Research/Stroke_PDGFR-B_Reactivity/Images/Widefield_10x_ROIs_KO_Fish_Pdgfrb_TDA/VietorisRips_Animated\\KL57_S1_VietorisRips_Animation.mp4\n",
      "Saved animation: D:/Research/Stroke_PDGFR-B_Reactivity/Images/Widefield_10x_ROIs_KO_Fish_Pdgfrb_TDA/VietorisRips_Animated\\KL57_S2_VietorisRips_Animation.mp4\n",
      "Saved animation: D:/Research/Stroke_PDGFR-B_Reactivity/Images/Widefield_10x_ROIs_KO_Fish_Pdgfrb_TDA/VietorisRips_Animated\\KL57_S3_VietorisRips_Animation.mp4\n"
     ]
    }
   ],
   "source": [
    "def animate_vietoris_rips_mp4(point_cloud, simplex_tree, filename, save_dir, max_radius, step_size=1):\n",
    "    fig, ax = plt.subplots(figsize=(7, 7))\n",
    "    ax.scatter(point_cloud[:, 0], point_cloud[:, 1], c='black', s=20, alpha=0.8)\n",
    "\n",
    "    def update(threshold):\n",
    "        ax.cla()  # Clear current plot details\n",
    "        ax.scatter(point_cloud[:, 0], point_cloud[:, 1], c='black', s=10, alpha=0.7)\n",
    "        edges = []\n",
    "        for simplex in simplex_tree.get_skeleton(2):\n",
    "            if simplex[1] <= threshold:\n",
    "                if len(simplex[0]) == 2:  # Edges\n",
    "                    p1, p2 = point_cloud[simplex[0][0]], point_cloud[simplex[0][1]]\n",
    "                    edges.append([p1, p2])\n",
    "        lc = LineCollection(edges, colors='green', alpha=0.7)\n",
    "        ax.add_collection(lc)\n",
    "        \n",
    "        ax.set_title(f\"Threshold: {threshold:.2f}\", fontsize=20)\n",
    "        ax.set_xlabel('X', fontsize=20, labelpad=15)\n",
    "        ax.set_ylabel('Y', fontsize=20, labelpad=15)\n",
    "        ax.tick_params(axis='both', which='major', labelsize=20)\n",
    "        ax.axis('equal')\n",
    "\n",
    "    ani = FuncAnimation(fig, update, frames=np.arange(0, max_radius, step_size), blit=False)\n",
    "    ani_file = os.path.join(save_dir, f\"{filename}_Animation.mp4\")\n",
    "    ani.save(ani_file, writer='ffmpeg', fps=2, extra_args=['-vcodec', 'libx264'])\n",
    "\n",
    "    plt.close()\n",
    "    return ani_file\n",
    "\n",
    "# Directory to save the animations\n",
    "output_dir = \"D:/Research/Stroke_PDGFR-B_Reactivity/Images/Widefield_10x_ROIs_KO_Fish_Pdgfrb_TDA/VietorisRips_Animated\"  # Update this path\n",
    "max_radius = 100  # Adjust as necessary\n",
    "step_size = 100  # Adjust as necessary\n",
    "\n",
    "# Generate and save animations for each section of each mouse\n",
    "for (mouse_id, section), simplex_tree in vietoris_rips_complexes.items():\n",
    "    filename = f\"{mouse_id}_{section}_VietorisRips\"\n",
    "    point_cloud = point_clouds_by_mouse_section[(mouse_id, section)]\n",
    "    ani_file = animate_vietoris_rips_mp4(point_cloud, simplex_tree, filename, output_dir, max_radius, step_size)\n",
    "    print(f\"Saved animation: {ani_file}\")\n"
   ]
  },
  {
   "cell_type": "markdown",
   "id": "54c5ec77",
   "metadata": {},
   "source": [
    "## Generate point clouds"
   ]
  },
  {
   "cell_type": "markdown",
   "id": "8ea0f459",
   "metadata": {},
   "source": [
    "Now, we generate point clouds to perform pcalculations of persistent homology. First, we define the groups to generate the point clods."
   ]
  },
  {
   "cell_type": "code",
   "execution_count": 21,
   "id": "b3ff1bb7",
   "metadata": {},
   "outputs": [
    {
     "name": "stdout",
     "output_type": "stream",
     "text": [
      "Point clouds loaded: 47\n",
      "('KL26', 'S1') (211, 2)\n",
      "('KL26', 'S2') (153, 2)\n",
      "('KL26', 'S3') (236, 2)\n",
      "('KL27', 'S1') (74, 2)\n",
      "('KL27', 'S2') (188, 2)\n"
     ]
    }
   ],
   "source": [
    "# Group the filtered dataset by MouseID and Section, then extract the point clouds\n",
    "point_clouds_by_group = filtered_data.groupby(['MouseID', 'Section']).apply(\n",
    "    lambda df: df[['x-coord', 'y-coord']].values\n",
    ").to_dict()\n",
    "\n",
    "# Check if the point_clouds_by_group dictionary is empty\n",
    "if not point_clouds_by_group:\n",
    "    print(\"The point_clouds_by_group dictionary is empty.\")\n",
    "else:\n",
    "    print(\"Point clouds loaded:\", len(point_clouds_by_group))\n",
    "    \n",
    "    # Inspect the first few items to ensure they're structured correctly\n",
    "    for key, value in list(point_clouds_by_group.items())[:5]:\n",
    "        print(key, value.shape)\n"
   ]
  },
  {
   "cell_type": "markdown",
   "id": "9592b9d0",
   "metadata": {},
   "source": [
    "We generate and save the point clouds"
   ]
  },
  {
   "cell_type": "code",
   "execution_count": 22,
   "id": "e40761e4",
   "metadata": {},
   "outputs": [
    {
     "name": "stdout",
     "output_type": "stream",
     "text": [
      "Point clouds saved as .npy files.\n"
     ]
    }
   ],
   "source": [
    "def save_point_clouds_as_npy(point_clouds_by_group, data_directory):\n",
    "    \"\"\"\n",
    "    Saves point clouds to .npy files in the specified directory.\n",
    "    \n",
    "    Parameters:\n",
    "        point_clouds_by_group (dict): Dictionary with keys as identifiers \n",
    "            (e.g., ('MouseID', 'Section')) and values as numpy arrays representing point clouds.\n",
    "        data_directory (str): Path to the directory where .npy files will be saved.\n",
    "    \"\"\"\n",
    "    # Ensure the directory exists\n",
    "    if not os.path.exists(data_directory):\n",
    "        os.makedirs(data_directory)\n",
    "    \n",
    "    # Iterate through the point clouds and save each as an .npy file\n",
    "    for identifier, point_cloud in point_clouds_by_group.items():\n",
    "        # Create a filename from the identifier\n",
    "        filename = \"_\".join(map(str, identifier)) + \".npy\"\n",
    "        filepath = os.path.join(data_directory, filename)\n",
    "        np.save(filepath, point_cloud)\n",
    "    \n",
    "    print(\"Point clouds saved as .npy files.\")\n",
    "    \n",
    "    # Directory to save the point clouds\n",
    "data_directory = \"PointClouds/Widefield_10x_ROIs_KO_Fish_Pdgfrb/\"  # Update this path\n",
    "\n",
    "# Call the function with your data and desired save location\n",
    "save_point_clouds_as_npy(point_clouds_by_group, data_directory)\n",
    "\n"
   ]
  },
  {
   "cell_type": "markdown",
   "id": "4bb16382",
   "metadata": {},
   "source": [
    "## Calculate persistence homology"
   ]
  },
  {
   "cell_type": "markdown",
   "id": "52efa0c8",
   "metadata": {},
   "source": [
    "First, we disable latex to aviod problems in plotting"
   ]
  },
  {
   "cell_type": "code",
   "execution_count": 23,
   "id": "d2c8908b",
   "metadata": {},
   "outputs": [],
   "source": [
    "plt.rcParams['text.usetex'] = False"
   ]
  },
  {
   "cell_type": "markdown",
   "id": "957e42cd",
   "metadata": {},
   "source": [
    "Next, we define an execute a function for the calculation of persistence homology. "
   ]
  },
  {
   "cell_type": "code",
   "execution_count": 25,
   "id": "e848af4a",
   "metadata": {},
   "outputs": [
    {
     "name": "stdout",
     "output_type": "stream",
     "text": [
      "Persistence diagrams saved to D:/Research/Stroke_PDGFR-B_Reactivity/Images/Widefield_10x_ROIs_KO_Fish_Pdgfrb_TDA/PersistenceDiagrams.\n",
      "Persistence diagrams data saved to Data_Raw/Widefield_10x_ROIs_KO_Fish_Pdgfrb_TDA/PersistenceDiagrams/.\n"
     ]
    }
   ],
   "source": [
    "def process_npy_for_persistence_diagrams(data_directory, save_directory, save_diag_directory, img_size=(6, 6), x_range=None, y_range=None):\n",
    "    \"\"\"\n",
    "    Process .npy files to compute and save persistence diagrams.\n",
    "\n",
    "    Parameters:\n",
    "    - data_directory: str, directory containing the .npy files.\n",
    "    - save_directory: str, directory to save the persistence diagram images.\n",
    "    - save_diag_directory: str, directory to save the persistence diagram data.\n",
    "    - img_size: tuple, size of the output images.\n",
    "    - x_range: tuple, the range for the x-axis (optional).\n",
    "    - y_range: tuple, the range for the y-axis (optional).\n",
    "    \"\"\"\n",
    "    if not os.path.exists(save_directory):\n",
    "        os.makedirs(save_directory)\n",
    "    if not os.path.exists(save_diag_directory):\n",
    "        os.makedirs(save_diag_directory)\n",
    "    \n",
    "    npy_files = [f for f in os.listdir(data_directory) if f.endswith('.npy')]\n",
    "    \n",
    "    for file in npy_files:\n",
    "        points_array = np.load(os.path.join(data_directory, file))\n",
    "        \n",
    "        # Compute persistence diagrams using Ripser\n",
    "        diagrams = ripser(points_array, maxdim=1)['dgms']\n",
    "        \n",
    "        # Save persistence diagram data\n",
    "        for dim, diag in enumerate(diagrams):\n",
    "            diag_filename = os.path.splitext(file)[0] + f\"_persistence_diag_dim{dim}.npy\"\n",
    "            np.save(os.path.join(save_diag_directory, diag_filename), diag)\n",
    "        \n",
    "        # Plot and save persistence diagrams\n",
    "        fig, ax = plt.subplots(figsize=img_size)\n",
    "        plot_diagrams(diagrams, show=False, ax=ax)\n",
    "        ax.set_title(\"\")\n",
    "        ax.set_xlabel('Birth', fontsize=25)\n",
    "        ax.set_ylabel('Death', fontsize=25)\n",
    "        ax.tick_params(axis='both', which='major', labelsize=25)\n",
    "        \n",
    "        legend = ax.legend()\n",
    "        if legend:\n",
    "            for label in legend.get_texts():\n",
    "                label.set_fontsize(20)\n",
    "        \n",
    "        plt.tight_layout()\n",
    "        \n",
    "        if x_range is not None:\n",
    "            ax.set_xlim(x_range)\n",
    "        if y_range is not None:\n",
    "            ax.set_ylim(y_range)\n",
    "        \n",
    "        filename = os.path.splitext(file)[0] + \"_persistence_diagram.png\"\n",
    "        fig.savefig(os.path.join(save_directory, filename))\n",
    "        plt.close()\n",
    "    \n",
    "    print(f\"Persistence diagrams saved to {save_directory}.\")\n",
    "    print(f\"Persistence diagrams data saved to {save_diag_directory}.\")\n",
    "    \n",
    "    # Directory containing the .npy point cloud files\n",
    "data_directory = \"PointClouds/Widefield_10x_ROIs_KO_Fish_Pdgfrb/\"  # Update this path\n",
    "\n",
    "# Directory to save the persistence diagram images\n",
    "save_directory = \"D:/Research/Stroke_PDGFR-B_Reactivity/Images/Widefield_10x_ROIs_KO_Fish_Pdgfrb_TDA/PersistenceDiagrams\"  # Update this path\n",
    "\n",
    "# Directory to save the persistence diagram data\n",
    "save_diag_directory = \"Data_Raw/Widefield_10x_ROIs_KO_Fish_Pdgfrb_TDA/PersistenceDiagrams\"  # Update this path\n",
    "\n",
    "# Optional: Set x and y axis ranges\n",
    "# x_range = (0, 500)  \n",
    "# y_range = (0, 500)\n",
    "\n",
    "# Call the function to process .npy files for persistence diagrams\n",
    "process_npy_for_persistence_diagrams(data_directory, save_directory, save_diag_directory, img_size=(6, 6), x_range=None, y_range=None)\n",
    "\n"
   ]
  },
  {
   "cell_type": "markdown",
   "id": "17646ee1",
   "metadata": {},
   "source": [
    "## Calculate bett curves"
   ]
  },
  {
   "cell_type": "markdown",
   "id": "d3d3f142",
   "metadata": {},
   "source": [
    "### For 0D homology"
   ]
  },
  {
   "cell_type": "markdown",
   "id": "3e8aa828",
   "metadata": {},
   "source": [
    "We load the genotype mapping from our .csv file: "
   ]
  },
  {
   "cell_type": "code",
   "execution_count": 57,
   "id": "077cc284",
   "metadata": {},
   "outputs": [],
   "source": [
    "def load_genotype_mapping(csv_path):\n",
    "    df = pd.read_csv(csv_path)\n",
    "    mouse_id_to_genotype = dict(zip(df['MouseID'], df['Genotype']))\n",
    "    return mouse_id_to_genotype\n",
    "\n",
    "csv_path = \"Data_Processed/Widefield_10x_ROIs_KO_Fish_Pdgfrb/Widefield_10x_ROIs_KO_Fish_Pdgfrb_AreaInt.csv\"  # Update this path\n",
    "mouse_id_to_genotype = load_genotype_mapping(csv_path)\n"
   ]
  },
  {
   "cell_type": "markdown",
   "id": "46959ce1",
   "metadata": {},
   "source": [
    "Next, we load the persistence diagrams for 0D homology"
   ]
  },
  {
   "cell_type": "code",
   "execution_count": 66,
   "id": "2b1a6869",
   "metadata": {},
   "outputs": [],
   "source": [
    "def load_persistence_diagrams(dim0_path, mouse_id_to_genotype):\n",
    "    files = [f for f in os.listdir(dim0_path) if 'dim0' in f]\n",
    "    data = {}\n",
    "    for file in files:\n",
    "        parts = file.split('_')\n",
    "        mouse_id, section = parts[0], parts[1]\n",
    "        genotype = mouse_id_to_genotype.get(mouse_id, 'Unknown')\n",
    "        diagram = np.load(os.path.join(dim0_path, file))\n",
    "        key = (genotype, mouse_id, section)\n",
    "        data[key] = diagram\n",
    "    return data\n",
    "\n",
    "dim0_path = \"Data_Raw/Widefield_10x_ROIs_KO_Fish_Pdgfrb_TDA/PersistenceDiagrams\"  # Update this path\n",
    "dim0_data = load_persistence_diagrams(dim0_path, mouse_id_to_genotype)\n"
   ]
  },
  {
   "cell_type": "markdown",
   "id": "10e60de6",
   "metadata": {},
   "source": [
    "We calculate the Betti curves for 0D homology."
   ]
  },
  {
   "cell_type": "code",
   "execution_count": 87,
   "id": "da6ff89f",
   "metadata": {},
   "outputs": [],
   "source": [
    "def compute_betti_0_curve(persistence_diagram, max_filtration_value, n_steps):\n",
    "    betti_0_curve = []\n",
    "    filtration_values = np.linspace(0, max_filtration_value, n_steps)\n",
    "    for value in filtration_values:\n",
    "        betti_0 = sum(1 for point in persistence_diagram if point[0] <= value and (point[1] > value or point[1] == float('inf')))\n",
    "        betti_0_curve.append(betti_0)\n",
    "\n",
    "    # Normalize the curve to start at 1\n",
    "    if betti_0_curve[0] != 0:  # Ensure there is no division by zero\n",
    "        initial_value = betti_0_curve[0]\n",
    "        normalized_betti_0_curve = [b / initial_value for b in betti_0_curve]\n",
    "    else:\n",
    "        # Handle the case where the initial value is 0\n",
    "        normalized_betti_0_curve = betti_0_curve\n",
    "\n",
    "    return normalized_betti_0_curve\n",
    "\n",
    "n_steps = 100\n",
    "max_filtration_value = 100\n",
    "betti_0_curves = {key: compute_betti_0_curve(diagram, max_filtration_value, n_steps) for key, diagram in dim0_data.items()}\n"
   ]
  },
  {
   "cell_type": "markdown",
   "id": "f562a338",
   "metadata": {},
   "source": [
    "Before plotting, we aggregate the Betti curves by genotype. "
   ]
  },
  {
   "cell_type": "code",
   "execution_count": 89,
   "id": "514ccaa6",
   "metadata": {},
   "outputs": [
    {
     "name": "stdout",
     "output_type": "stream",
     "text": [
      "Genotype: WT, Number of curves: 20\n",
      "Genotype: KO, Number of curves: 27\n"
     ]
    }
   ],
   "source": [
    "aggregated_curves_by_genotype = defaultdict(list)\n",
    "for (genotype, mouse_id, section), curve in betti_0_curves.items():\n",
    "    aggregated_curves_by_genotype[genotype].append(curve)\n",
    "\n",
    "# Print some intermediate results to verify aggregation\n",
    "for genotype, curves in aggregated_curves_by_genotype.items():\n",
    "    print(f\"Genotype: {genotype}, Number of curves: {len(curves)}\")\n",
    "\n",
    "# Calculate the mean and standard deviation of the Betti-0 curves for each genotype\n",
    "mean_curves_by_genotype = {genotype: np.mean(curves, axis=0) for genotype, curves in aggregated_curves_by_genotype.items()}\n",
    "std_curves_by_genotype = {genotype: np.std(curves, axis=0) for genotype, curves in aggregated_curves_by_genotype.items()}\n"
   ]
  },
  {
   "cell_type": "markdown",
   "id": "48f232e8",
   "metadata": {},
   "source": [
    "Now, we plot and save the Betti curves. "
   ]
  },
  {
   "cell_type": "code",
   "execution_count": 96,
   "id": "7e0f3250",
   "metadata": {},
   "outputs": [
    {
     "name": "stdout",
     "output_type": "stream",
     "text": [
      "Saved Betti-0 curve plot at Plots/Widefield_10x_ROIs_KO_Fish_Pdgfrb\\Betti0_Curves_KO_WT.png\n"
     ]
    },
    {
     "data": {
      "image/png": "[encoded data removed]",
      "text/plain": [
       "<Figure size 700x400 with 1 Axes>"
      ]
     },
     "metadata": {},
     "output_type": "display_data"
    }
   ],
   "source": [
    "# Define custom legend labels\n",
    "legend_labels = {\n",
    "    'WT': 'Wild Type',\n",
    "    'KO': 'Knockout'\n",
    "}\n",
    "\n",
    "def plot_aggregated_betti_curves(mean_curves_by_genotype, std_curves_by_genotype, save_directory, legend_labels):\n",
    "    if not os.path.exists(save_directory):\n",
    "        os.makedirs(save_directory)\n",
    "    \n",
    "    plt.figure(figsize=(7, 4))\n",
    "    \n",
    "    for genotype, mean_curve in mean_curves_by_genotype.items():\n",
    "        std_curve = std_curves_by_genotype[genotype]\n",
    "        label = legend_labels.get(genotype, genotype)  # Get custom label or use the genotype as default\n",
    "        plt.plot(mean_curve, label=label)\n",
    "        plt.fill_between(range(len(mean_curve)), mean_curve - std_curve, mean_curve + std_curve, alpha=0.3)\n",
    "    \n",
    "    plt.xlabel(\"Filtration Value\", fontsize=25)\n",
    "    plt.ylabel(\"Normalized Betti-0\", fontsize=25)\n",
    "    plt.xticks(fontsize=25)\n",
    "    plt.yticks(fontsize=25)\n",
    "    plt.legend(title=\"Genotype\", fontsize=20)\n",
    "    plt.title(\"\", fontsize=25)\n",
    "    plt.tight_layout()\n",
    "\n",
    "    plot_path = os.path.join(save_directory, \"Betti0_Curves_KO_WT.png\")\n",
    "    plt.savefig(plot_path)\n",
    "    print(f\"Saved Betti-0 curve plot at {plot_path}\")\n",
    "    \n",
    "    plt.show()\n",
    "    plt.close()\n",
    "\n",
    "\n",
    "save_directory = \"Plots/Widefield_10x_ROIs_KO_Fish_Pdgfrb\"  # Update this path\n",
    "plot_aggregated_betti_curves(mean_curves_by_genotype, std_curves_by_genotype, save_directory, legend_labels)\n"
   ]
  },
  {
   "cell_type": "code",
   "execution_count": 97,
   "id": "32b22141",
   "metadata": {},
   "outputs": [],
   "source": [
    "### For 1D homology"
   ]
  },
  {
   "cell_type": "code",
   "execution_count": 98,
   "id": "84dc68f0",
   "metadata": {},
   "outputs": [],
   "source": [
    "def load_persistence_diagrams(dim1_path, mouse_id_to_genotype):\n",
    "    files = [f for f in os.listdir(dim1_path) if 'dim1' in f]\n",
    "    data = {}\n",
    "    for file in files:\n",
    "        parts = file.split('_')\n",
    "        mouse_id, section = parts[0], parts[1]\n",
    "        genotype = mouse_id_to_genotype.get(mouse_id, 'Unknown')\n",
    "        diagram = np.load(os.path.join(dim1_path, file))\n",
    "        key = (genotype, mouse_id, section)\n",
    "        data[key] = diagram\n",
    "    return data\n",
    "\n",
    "dim1_path = \"Data_Raw/Widefield_10x_ROIs_KO_Fish_Pdgfrb_TDA/PersistenceDiagrams\"  # Update this path\n",
    "dim1_data = load_persistence_diagrams(dim1_path, mouse_id_to_genotype)\n"
   ]
  },
  {
   "cell_type": "markdown",
   "id": "51a765b3",
   "metadata": {},
   "source": [
    "Compute the Betti curves for 1D homology:"
   ]
  },
  {
   "cell_type": "code",
   "execution_count": 102,
   "id": "a00f77ae",
   "metadata": {},
   "outputs": [],
   "source": [
    "def compute_betti_1_curve(persistence_diagram, max_filtration_value, n_steps):\n",
    "    betti_1_curve = []\n",
    "    filtration_values = np.linspace(0, max_filtration_value, n_steps)\n",
    "    for value in filtration_values:\n",
    "        betti_1 = sum(1 for point in persistence_diagram if point[0] <= value and (point[1] > value or point[1] == float('inf')))\n",
    "        betti_1_curve.append(betti_1)\n",
    "    return betti_1_curve\n",
    "\n",
    "n_steps = 100\n",
    "max_filtration_value = 200\n",
    "betti_1_curves = {key: compute_betti_1_curve(diagram, max_filtration_value, n_steps) for key, diagram in dim1_data.items()}\n"
   ]
  },
  {
   "cell_type": "markdown",
   "id": "cca19608",
   "metadata": {},
   "source": [
    "WE aggregate the curves by genotype"
   ]
  },
  {
   "cell_type": "code",
   "execution_count": 103,
   "id": "d5ad63ee",
   "metadata": {},
   "outputs": [
    {
     "name": "stdout",
     "output_type": "stream",
     "text": [
      "Genotype: WT, Number of curves: 20\n",
      "Genotype: KO, Number of curves: 27\n"
     ]
    }
   ],
   "source": [
    "aggregated_curves_by_genotype = defaultdict(list)\n",
    "for (genotype, mouse_id, section), curve in betti_1_curves.items():\n",
    "    aggregated_curves_by_genotype[genotype].append(curve)\n",
    "\n",
    "# Print some intermediate results to verify aggregation\n",
    "for genotype, curves in aggregated_curves_by_genotype.items():\n",
    "    print(f\"Genotype: {genotype}, Number of curves: {len(curves)}\")\n",
    "\n",
    "# Calculate the mean and standard deviation of the Betti-1 curves for each genotype\n",
    "mean_curves_by_genotype = {genotype: np.mean(curves, axis=0) for genotype, curves in aggregated_curves_by_genotype.items()}\n",
    "std_curves_by_genotype = {genotype: np.std(curves, axis=0) for genotype, curves in aggregated_curves_by_genotype.items()}\n"
   ]
  },
  {
   "cell_type": "markdown",
   "id": "f02b78d5",
   "metadata": {},
   "source": [
    "And finally, we plot the Betti curves:"
   ]
  },
  {
   "cell_type": "code",
   "execution_count": 106,
   "id": "c605f485",
   "metadata": {},
   "outputs": [
    {
     "name": "stdout",
     "output_type": "stream",
     "text": [
      "Saved Betti-1 curve plot at Plots/Widefield_10x_ROIs_KO_Fish_Pdgfrb\\Betti1_Curves_KO_WT.png\n"
     ]
    },
    {
     "data": {
      "image/png": "[encoded data removed]",
      "text/plain": [
       "<Figure size 700x400 with 1 Axes>"
      ]
     },
     "metadata": {},
     "output_type": "display_data"
    }
   ],
   "source": [
    "def plot_aggregated_betti_curves(mean_curves_by_genotype, std_curves_by_genotype, save_directory, legend_labels):\n",
    "    if not os.path.exists(save_directory):\n",
    "        os.makedirs(save_directory)\n",
    "    \n",
    "    plt.figure(figsize=(7, 4))\n",
    "    \n",
    "    for genotype, mean_curve in mean_curves_by_genotype.items():\n",
    "        std_curve = std_curves_by_genotype[genotype]\n",
    "        label = legend_labels.get(genotype, genotype)  # Get custom label or use the genotype as default\n",
    "        plt.plot(mean_curve, label=label)\n",
    "        plt.fill_between(range(len(mean_curve)), mean_curve - std_curve, mean_curve + std_curve, alpha=0.3)\n",
    "    \n",
    "    plt.xlabel(\"Filtration Value\", fontsize=25)\n",
    "    plt.ylabel(\"Betti-1\", fontsize=25)\n",
    "    plt.xticks(fontsize=25)\n",
    "    plt.yticks(fontsize=25)\n",
    "    plt.legend(title=\"Genotype\", fontsize=20)\n",
    "    plt.title(\"\", fontsize=25)\n",
    "    plt.tight_layout()\n",
    "\n",
    "    plot_path = os.path.join(save_directory, \"Betti1_Curves_KO_WT.png\")\n",
    "    plt.savefig(plot_path)\n",
    "    print(f\"Saved Betti-1 curve plot at {plot_path}\")\n",
    "    \n",
    "    plt.show()\n",
    "    plt.close()\n",
    "\n",
    "# Define custom legend labels\n",
    "legend_labels = {\n",
    "    'WT': 'Wild Type',\n",
    "    'KO': 'Knockout'\n",
    "}\n",
    "\n",
    "save_directory = \"Plots/Widefield_10x_ROIs_KO_Fish_Pdgfrb\"  # Update this path\n",
    "plot_aggregated_betti_curves(mean_curves_by_genotype, std_curves_by_genotype, save_directory, legend_labels)\n"
   ]
  },
  {
   "cell_type": "code",
   "execution_count": null,
   "id": "c5189934",
   "metadata": {},
   "outputs": [],
   "source": []
  }
 ],
 "metadata": {
  "kernelspec": {
   "display_name": "Python 3 (ipykernel)",
   "language": "python",
   "name": "python3"
  },
  "language_info": {
   "codemirror_mode": {
    "name": "ipython",
    "version": 3
   },
   "file_extension": ".py",
   "mimetype": "text/x-python",
   "name": "python",
   "nbconvert_exporter": "python",
   "pygments_lexer": "ipython3",
   "version": "3.10.13"
  },
  "nbTranslate": {
   "displayLangs": [
    "*"
   ],
   "hotkey": "alt-t",
   "langInMainMenu": true,
   "sourceLang": "en",
   "targetLang": "fr",
   "useGoogleTranslate": true
  },
  "toc": {
   "base_numbering": 1,
   "nav_menu": {},
   "number_sections": true,
   "sideBar": true,
   "skip_h1_title": false,
   "title_cell": "Table of Contents",
   "title_sidebar": "Contents",
   "toc_cell": false,
   "toc_position": {
    "height": "calc(100% - 180px)",
    "left": "10px",
    "top": "150px",
    "width": "338.767px"
   },
   "toc_section_display": true,
   "toc_window_display": true
  },
  "varInspector": {
   "cols": {
    "lenName": 16,
    "lenType": 16,
    "lenVar": 40
   },
   "kernels_config": {
    "python": {
     "delete_cmd_postfix": "",
     "delete_cmd_prefix": "del ",
     "library": "var_list.py",
     "varRefreshCmd": "print(var_dic_list())"
    },
    "r": {
     "delete_cmd_postfix": ") ",
     "delete_cmd_prefix": "rm(",
     "library": "var_list.r",
     "varRefreshCmd": "cat(var_dic_list()) "
    }
   },
   "types_to_exclude": [
    "module",
    "function",
    "builtin_function_or_method",
    "instance",
    "_Feature"
   ],
   "window_display": false
  }
 },
 "nbformat": 4,
 "nbformat_minor": 5
}
